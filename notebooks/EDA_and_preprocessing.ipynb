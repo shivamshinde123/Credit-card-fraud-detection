{
 "cells": [
  {
   "cell_type": "code",
   "execution_count": 1,
   "id": "b98242fd-3fdf-489d-91c6-572a0da82cf1",
   "metadata": {},
   "outputs": [],
   "source": [
    "import numpy as np\n",
    "import pandas as pd\n",
    "import matplotlib.pyplot as plt"
   ]
  },
  {
   "cell_type": "code",
   "execution_count": 2,
   "id": "15cec58d-bf4a-4bb7-99fc-06315db98146",
   "metadata": {},
   "outputs": [],
   "source": [
    "df = pd.read_csv(\"..\\\\data\\\\raw\\\\raw_data.csv\")"
   ]
  },
  {
   "cell_type": "code",
   "execution_count": 3,
   "id": "b0d37b82-d083-40e2-96e0-7b4a9ba0cb18",
   "metadata": {},
   "outputs": [
    {
     "data": {
      "text/html": [
       "<div>\n",
       "<style scoped>\n",
       "    .dataframe tbody tr th:only-of-type {\n",
       "        vertical-align: middle;\n",
       "    }\n",
       "\n",
       "    .dataframe tbody tr th {\n",
       "        vertical-align: top;\n",
       "    }\n",
       "\n",
       "    .dataframe thead th {\n",
       "        text-align: right;\n",
       "    }\n",
       "</style>\n",
       "<table border=\"1\" class=\"dataframe\">\n",
       "  <thead>\n",
       "    <tr style=\"text-align: right;\">\n",
       "      <th></th>\n",
       "      <th>distance_from_home</th>\n",
       "      <th>distance_from_last_transaction</th>\n",
       "      <th>ratio_to_median_purchase_price</th>\n",
       "      <th>repeat_retailer</th>\n",
       "      <th>used_chip</th>\n",
       "      <th>used_pin_number</th>\n",
       "      <th>online_order</th>\n",
       "      <th>fraud</th>\n",
       "    </tr>\n",
       "  </thead>\n",
       "  <tbody>\n",
       "    <tr>\n",
       "      <th>0</th>\n",
       "      <td>57.877857</td>\n",
       "      <td>0.311140</td>\n",
       "      <td>1.945940</td>\n",
       "      <td>1.0</td>\n",
       "      <td>1.0</td>\n",
       "      <td>0.0</td>\n",
       "      <td>0.0</td>\n",
       "      <td>0.0</td>\n",
       "    </tr>\n",
       "    <tr>\n",
       "      <th>1</th>\n",
       "      <td>10.829943</td>\n",
       "      <td>0.175592</td>\n",
       "      <td>1.294219</td>\n",
       "      <td>1.0</td>\n",
       "      <td>0.0</td>\n",
       "      <td>0.0</td>\n",
       "      <td>0.0</td>\n",
       "      <td>0.0</td>\n",
       "    </tr>\n",
       "    <tr>\n",
       "      <th>2</th>\n",
       "      <td>5.091079</td>\n",
       "      <td>0.805153</td>\n",
       "      <td>0.427715</td>\n",
       "      <td>1.0</td>\n",
       "      <td>0.0</td>\n",
       "      <td>0.0</td>\n",
       "      <td>1.0</td>\n",
       "      <td>0.0</td>\n",
       "    </tr>\n",
       "    <tr>\n",
       "      <th>3</th>\n",
       "      <td>2.247564</td>\n",
       "      <td>5.600044</td>\n",
       "      <td>0.362663</td>\n",
       "      <td>1.0</td>\n",
       "      <td>1.0</td>\n",
       "      <td>0.0</td>\n",
       "      <td>1.0</td>\n",
       "      <td>0.0</td>\n",
       "    </tr>\n",
       "    <tr>\n",
       "      <th>4</th>\n",
       "      <td>44.190936</td>\n",
       "      <td>0.566486</td>\n",
       "      <td>2.222767</td>\n",
       "      <td>1.0</td>\n",
       "      <td>1.0</td>\n",
       "      <td>0.0</td>\n",
       "      <td>1.0</td>\n",
       "      <td>0.0</td>\n",
       "    </tr>\n",
       "  </tbody>\n",
       "</table>\n",
       "</div>"
      ],
      "text/plain": [
       "   distance_from_home  distance_from_last_transaction  \\\n",
       "0           57.877857                        0.311140   \n",
       "1           10.829943                        0.175592   \n",
       "2            5.091079                        0.805153   \n",
       "3            2.247564                        5.600044   \n",
       "4           44.190936                        0.566486   \n",
       "\n",
       "   ratio_to_median_purchase_price  repeat_retailer  used_chip  \\\n",
       "0                        1.945940              1.0        1.0   \n",
       "1                        1.294219              1.0        0.0   \n",
       "2                        0.427715              1.0        0.0   \n",
       "3                        0.362663              1.0        1.0   \n",
       "4                        2.222767              1.0        1.0   \n",
       "\n",
       "   used_pin_number  online_order  fraud  \n",
       "0              0.0           0.0    0.0  \n",
       "1              0.0           0.0    0.0  \n",
       "2              0.0           1.0    0.0  \n",
       "3              0.0           1.0    0.0  \n",
       "4              0.0           1.0    0.0  "
      ]
     },
     "execution_count": 3,
     "metadata": {},
     "output_type": "execute_result"
    }
   ],
   "source": [
    "## checking first 5 rows\n",
    "df.head()"
   ]
  },
  {
   "cell_type": "code",
   "execution_count": 4,
   "id": "2efc3135-d541-4d6b-838e-fa2b4ba2c97b",
   "metadata": {},
   "outputs": [
    {
     "name": "stdout",
     "output_type": "stream",
     "text": [
      "The number of rows in the dataframe are: 1000000\n",
      "The number of columns in the dataframe are: 8\n"
     ]
    }
   ],
   "source": [
    "## checking the shape of the dataframe\n",
    "print(f\"The number of rows in the dataframe are: {df.shape[0]}\")\n",
    "print(f\"The number of columns in the dataframe are: {df.shape[1]}\")"
   ]
  },
  {
   "cell_type": "code",
   "execution_count": 5,
   "id": "eee25032-989f-4d2e-8ebf-42fa94cea136",
   "metadata": {},
   "outputs": [
    {
     "name": "stdout",
     "output_type": "stream",
     "text": [
      "<class 'pandas.core.frame.DataFrame'>\n",
      "RangeIndex: 1000000 entries, 0 to 999999\n",
      "Data columns (total 8 columns):\n",
      " #   Column                          Non-Null Count    Dtype  \n",
      "---  ------                          --------------    -----  \n",
      " 0   distance_from_home              1000000 non-null  float64\n",
      " 1   distance_from_last_transaction  1000000 non-null  float64\n",
      " 2   ratio_to_median_purchase_price  1000000 non-null  float64\n",
      " 3   repeat_retailer                 1000000 non-null  float64\n",
      " 4   used_chip                       1000000 non-null  float64\n",
      " 5   used_pin_number                 1000000 non-null  float64\n",
      " 6   online_order                    1000000 non-null  float64\n",
      " 7   fraud                           1000000 non-null  float64\n",
      "dtypes: float64(8)\n",
      "memory usage: 61.0 MB\n"
     ]
    }
   ],
   "source": [
    "## checking the basic info about the dataframe\n",
    "df.info()"
   ]
  },
  {
   "cell_type": "code",
   "execution_count": 6,
   "id": "5d6a8791-e81c-4a01-ba4e-d6574477f576",
   "metadata": {},
   "outputs": [],
   "source": [
    "## finding some more basic info about the dataframe\n",
    "import os\n",
    "d = df.describe().T[['min','max']].T.iloc[:,:3].to_json('..\\\\prediction_service\\\\schema_in.json')"
   ]
  },
  {
   "cell_type": "markdown",
   "id": "b45ff4ff-0207-47ff-ba74-a65d2abd4c2c",
   "metadata": {},
   "source": [
    "**We are saving the minimum and maximum value for the numerical columns of the dataframe. This will be used later to validate the inputs provided by the user over a form**"
   ]
  },
  {
   "cell_type": "code",
   "execution_count": 7,
   "id": "c6bb9b03-c518-48be-8051-f223fb0eb9d9",
   "metadata": {},
   "outputs": [
    {
     "name": "stdout",
     "output_type": "stream",
     "text": [
      "The number of unique values in the column distance_from_home are : 1000000. \n",
      " The unique values are: \n",
      " [57.87785658 10.8299427   5.09107949 ...  2.91485699  4.25872939\n",
      " 58.10812496] \n",
      " \n",
      "The number of unique values in the column distance_from_last_transaction are : 1000000. \n",
      " The unique values are: \n",
      " [0.31114001 0.1755915  0.80515259 ... 1.47268669 0.24202337 0.31811012] \n",
      " \n",
      "The number of unique values in the column ratio_to_median_purchase_price are : 1000000. \n",
      " The unique values are: \n",
      " [1.94593998 1.29421881 0.42771456 ... 0.21807549 0.47582206 0.38691985] \n",
      " \n",
      "The number of unique values in the column repeat_retailer are : 2. \n",
      " The unique values are: \n",
      " [1. 0.] \n",
      " \n",
      "The number of unique values in the column used_chip are : 2. \n",
      " The unique values are: \n",
      " [1. 0.] \n",
      " \n",
      "The number of unique values in the column used_pin_number are : 2. \n",
      " The unique values are: \n",
      " [0. 1.] \n",
      " \n",
      "The number of unique values in the column online_order are : 2. \n",
      " The unique values are: \n",
      " [0. 1.] \n",
      " \n",
      "The number of unique values in the column fraud are : 2. \n",
      " The unique values are: \n",
      " [0. 1.] \n",
      " \n"
     ]
    }
   ],
   "source": [
    "## let's check the number of unique value in each of the feature columns \n",
    "for col in df.columns:\n",
    "    print(f\"The number of unique values in the column {col} are : {df[col].nunique()}. \\n The unique values are: \\n {df[col].unique()} \\n \")"
   ]
  },
  {
   "cell_type": "markdown",
   "id": "b50b5b80-ec01-4c2d-94e6-324f4e9f3fd1",
   "metadata": {},
   "source": [
    "**Using the number of unique values in the column we can classify it as either numerical or categorical**"
   ]
  },
  {
   "cell_type": "code",
   "execution_count": 8,
   "id": "948b03a1-58ec-41fc-b6f1-49b30402c06b",
   "metadata": {},
   "outputs": [],
   "source": [
    "num_col = []\n",
    "cat_col = []\n",
    "\n",
    "for col in df.columns:\n",
    "    if col == 'fraud':\n",
    "        pass\n",
    "    else:\n",
    "        if df[col].nunique() <= 20:\n",
    "            cat_col.append(col)\n",
    "        else:\n",
    "            num_col.append(col)"
   ]
  },
  {
   "cell_type": "code",
   "execution_count": 9,
   "id": "2893381a-056c-47bd-84c6-8fcae6366380",
   "metadata": {},
   "outputs": [
    {
     "name": "stdout",
     "output_type": "stream",
     "text": [
      "Numerical columns present in the dataframe are: ['distance_from_home', 'distance_from_last_transaction', 'ratio_to_median_purchase_price']\n",
      "Categorical columns present in the dataframe are: ['repeat_retailer', 'used_chip', 'used_pin_number', 'online_order']\n"
     ]
    }
   ],
   "source": [
    "print(f\"Numerical columns present in the dataframe are: {num_col}\")\n",
    "print(f\"Categorical columns present in the dataframe are: {cat_col}\")"
   ]
  },
  {
   "cell_type": "code",
   "execution_count": 10,
   "id": "c9ef3489-070b-4279-9cec-99d38623eca8",
   "metadata": {},
   "outputs": [
    {
     "data": {
      "text/plain": [
       "distance_from_home                0\n",
       "distance_from_last_transaction    0\n",
       "ratio_to_median_purchase_price    0\n",
       "repeat_retailer                   0\n",
       "used_chip                         0\n",
       "used_pin_number                   0\n",
       "online_order                      0\n",
       "fraud                             0\n",
       "dtype: int64"
      ]
     },
     "execution_count": 10,
     "metadata": {},
     "output_type": "execute_result"
    }
   ],
   "source": [
    "## checking the number of missing values in the dataframe\n",
    "df.isnull().sum()"
   ]
  },
  {
   "cell_type": "markdown",
   "id": "ced54ae0-2fda-4115-aeb8-64961f010104",
   "metadata": {},
   "source": [
    "**No missing values in the provided data**"
   ]
  },
  {
   "cell_type": "code",
   "execution_count": 11,
   "id": "ce5c6572-76e9-4bc1-a154-a42dc3eab74d",
   "metadata": {},
   "outputs": [
    {
     "data": {
      "text/plain": [
       "<AxesSubplot:>"
      ]
     },
     "execution_count": 11,
     "metadata": {},
     "output_type": "execute_result"
    },
    {
     "data": {
      "image/png": "[encoded data removed]",
      "text/plain": [
       "<Figure size 432x288 with 1 Axes>"
      ]
     },
     "metadata": {
      "needs_background": "light"
     },
     "output_type": "display_data"
    }
   ],
   "source": [
    "## checking the distribution of the values in the numerical column of the dataframe\n",
    "df['distance_from_home'].plot()"
   ]
  },
  {
   "cell_type": "code",
   "execution_count": 12,
   "id": "101c5f77-599b-4dac-a989-ec60aeff2ccd",
   "metadata": {},
   "outputs": [
    {
     "data": {
      "text/plain": [
       "<AxesSubplot:>"
      ]
     },
     "execution_count": 12,
     "metadata": {},
     "output_type": "execute_result"
    },
    {
     "data": {
      "image/png": "[encoded data removed]",
      "text/plain": [
       "<Figure size 432x288 with 1 Axes>"
      ]
     },
     "metadata": {
      "needs_background": "light"
     },
     "output_type": "display_data"
    }
   ],
   "source": [
    "df['distance_from_last_transaction'].plot()"
   ]
  },
  {
   "cell_type": "code",
   "execution_count": 13,
   "id": "3b257c44-b774-42d9-a457-fa3ecf94f62b",
   "metadata": {},
   "outputs": [
    {
     "data": {
      "text/plain": [
       "<AxesSubplot:>"
      ]
     },
     "execution_count": 13,
     "metadata": {},
     "output_type": "execute_result"
    },
    {
     "data": {
      "image/png": "[encoded data removed]",
      "text/plain": [
       "<Figure size 432x288 with 1 Axes>"
      ]
     },
     "metadata": {
      "needs_background": "light"
     },
     "output_type": "display_data"
    }
   ],
   "source": [
    "df['ratio_to_median_purchase_price'].plot()"
   ]
  },
  {
   "cell_type": "markdown",
   "id": "637ea13f-cf59-4fab-94ba-d539e24ae408",
   "metadata": {},
   "source": [
    "### Since we are training the model to detect the fraud related to the credit card transactions, i think removing outliers would be unwise since they could give some useful info"
   ]
  },
  {
   "cell_type": "markdown",
   "id": "8e2be3d8",
   "metadata": {},
   "source": [
    "### This data doesn't need any preprocessing. SO, moving directly to the train-test split"
   ]
  },
  {
   "cell_type": "code",
   "execution_count": null,
   "id": "88ef7916-2593-4669-a94d-85004f33706e",
   "metadata": {},
   "outputs": [],
   "source": []
  }
 ],
 "metadata": {
  "kernelspec": {
   "display_name": "Python 3 (ipykernel)",
   "language": "python",
   "name": "python3"
  },
  "language_info": {
   "codemirror_mode": {
    "name": "ipython",
    "version": 3
   },
   "file_extension": ".py",
   "mimetype": "text/x-python",
   "name": "python",
   "nbconvert_exporter": "python",
   "pygments_lexer": "ipython3",
   "version": "3.10.4"
  }
 },
 "nbformat": 4,
 "nbformat_minor": 5
}
